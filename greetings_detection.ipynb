{
  "nbformat": 4,
  "nbformat_minor": 0,
  "metadata": {
    "colab": {
      "provenance": [],
      "authorship_tag": "ABX9TyNF5YKOj0HjXgpsjeeL3WUE",
      "include_colab_link": true
    },
    "kernelspec": {
      "name": "python3",
      "display_name": "Python 3"
    },
    "language_info": {
      "name": "python"
    }
  },
  "cells": [
    {
      "cell_type": "markdown",
      "metadata": {
        "id": "view-in-github",
        "colab_type": "text"
      },
      "source": [
        "<a href=\"https://colab.research.google.com/github/saivarshitnune/NLP_Projects/blob/Varshith/greetings_detection.ipynb\" target=\"_parent\"><img src=\"https://colab.research.google.com/assets/colab-badge.svg\" alt=\"Open In Colab\"/></a>"
      ]
    },
    {
      "cell_type": "code",
      "execution_count": null,
      "metadata": {
        "id": "_8lMymdo3xk6"
      },
      "outputs": [],
      "source": [
        "import spacy\n",
        "from spacy.matcher import PhraseMatcher\n",
        "\n",
        "import os\n",
        "from pathlib import Path\n",
        "\n",
        "nlp = spacy.load(\"en_core_web_sm\")\n",
        "matcher = PhraseMatcher(nlp.vocab, attr=\"LOWER\")\n",
        "\n",
        "# To open and read from file\n",
        "path = os.path.dirname(__file__)\n",
        "greetings_file = Path(__file__).resolve().parent.parent.joinpath(\"preprocess/greetings\")\n",
        "file = open(greetings_file, \"r\")\n",
        "terms = [line.strip() for line in file.readlines()]\n",
        "file.close()\n",
        "\n",
        "patterns = [nlp.make_doc(text) for text in terms]\n",
        "matcher.add(\"TerminologyList\", patterns)\n",
        "\n",
        "async def detect_greeting(text):\n",
        "    \"\"\"\n",
        "    This function will detect if greetings is present in the user question.\n",
        "\n",
        "    :params user input question\n",
        "\n",
        "    :return greeting, True/False\n",
        "    \"\"\"\n",
        "\n",
        "    doc = nlp(text)\n",
        "    matches = matcher(doc)\n",
        "\n",
        "    greetings = []\n",
        "\n",
        "    for match_id, start, end in matches:\n",
        "        span = doc[start:end]\n",
        "        greetings.append(span.text)\n",
        "\n",
        "    if len(greetings) >= 1:\n",
        "        return greetings, True\n",
        "    else:\n",
        "        return greetings, False"
      ]
    }
  ]
}