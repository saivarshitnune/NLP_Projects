{
  "nbformat": 4,
  "nbformat_minor": 0,
  "metadata": {
    "colab": {
      "provenance": [],
      "authorship_tag": "ABX9TyOGNGGmJ/NdaJiu5b6yXG5+",
      "include_colab_link": true
    },
    "kernelspec": {
      "name": "python3",
      "display_name": "Python 3"
    },
    "language_info": {
      "name": "python"
    }
  },
  "cells": [
    {
      "cell_type": "markdown",
      "metadata": {
        "id": "view-in-github",
        "colab_type": "text"
      },
      "source": [
        "<a href=\"https://colab.research.google.com/github/saivarshitnune/NLP_Projects/blob/Varshith/key_words_helper.ipynb\" target=\"_parent\"><img src=\"https://colab.research.google.com/assets/colab-badge.svg\" alt=\"Open In Colab\"/></a>"
      ]
    },
    {
      "cell_type": "code",
      "execution_count": null,
      "metadata": {
        "id": "o5uDuwem8POP"
      },
      "outputs": [],
      "source": [
        "from typing import Any\n",
        "import nltk\n",
        "import gensim\n",
        "from rake_nltk import Rake\n",
        "from nltk.corpus import stopwords\n",
        "import numpy as np\n",
        "from nltk.stem import WordNetLemmatizer\n",
        "\n",
        "stop_words = stopwords.words(\"english\")\n",
        "r = Rake(stopwords=stop_words)\n",
        "wordnet_lemmatizer = WordNetLemmatizer()\n",
        "\n",
        "async def extract_keywords(question: str, method=\"All\") -> Any:\n",
        "  \"\"\"\n",
        "  This function will extract keywords by different methods\n",
        "\n",
        "  :params question\n",
        "  :return list of keywords\n",
        "  \"\"\"\n",
        "\n",
        "  if question != np.nan:\n",
        "    clean = ' '.join(gensim.utils.simple_preprocess(str(question).encode(\"utf-8\"), deacc=True))\n",
        "\n",
        "    # to extract keywords by using Rake method\n",
        "    if method == \"Rake\":\n",
        "      r.extract_keywords_from_text(clean)\n",
        "      keywords = r.get_ranked_phrases()\n",
        "\n",
        "      keys = []\n",
        "      for key in keywords:\n",
        "        for j in key.split():\n",
        "          keys.append(j.strip())\n",
        "\n",
        "      if len(keys) == 0:\n",
        "        return [\"Not Found\"]\n",
        "      else:\n",
        "        return keys\n",
        "\n",
        "    elif question == np.nan:\n",
        "      return [\"Not Found\"]"
      ]
    }
  ]
}