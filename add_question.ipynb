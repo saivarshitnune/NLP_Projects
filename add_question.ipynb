{
  "nbformat": 4,
  "nbformat_minor": 0,
  "metadata": {
    "colab": {
      "provenance": [],
      "authorship_tag": "ABX9TyNQRVKsnWS6F+aYrS+jvHnt",
      "include_colab_link": true
    },
    "kernelspec": {
      "name": "python3",
      "display_name": "Python 3"
    },
    "language_info": {
      "name": "python"
    }
  },
  "cells": [
    {
      "cell_type": "markdown",
      "metadata": {
        "id": "view-in-github",
        "colab_type": "text"
      },
      "source": [
        "<a href=\"https://colab.research.google.com/github/saivarshitnune/NLP_Projects/blob/Varshith/add_question.ipynb\" target=\"_parent\"><img src=\"https://colab.research.google.com/assets/colab-badge.svg\" alt=\"Open In Colab\"/></a>"
      ]
    },
    {
      "cell_type": "code",
      "execution_count": null,
      "metadata": {
        "id": "7iIA2k-Td5M-"
      },
      "outputs": [],
      "source": [
        "import json\n",
        "from typing import Dict, Any\n",
        "\n",
        "from fastapi.responses import JSONResponse\n",
        "from fastapi.routing import APIRouter\n",
        "from fastapi import status\n",
        "\n",
        "from api.initializer import (logger_instance, firestore_db_instance)\n",
        "from api.main.models.add_questions_payload import AddQuestionsPayload\n",
        "from api.main.models.update_phrases_payload import UpdateSingleQuestionPhrase\n",
        "from api.main.services.add_questions_service import AddQuestionService\n",
        "from api.main.services.update_questions_service import UpdateQuestionPhrasesService\n",
        "\n",
        "# Service initialization\n",
        "add_questions_service = AddQuestionService()\n",
        "update_questions_service = UpdateQuestionPhrasesService()\n",
        "\n",
        "# API Router initialization\n",
        "router = APIRouter(prefix='/add_questions')\n",
        "logger = logger_instance.get_logger(_name_)\n",
        "\n",
        "# Add Question API Route\n",
        "@router.post(\"/\", status_code=status.HTTP_201_CREATED)\n",
        "async def add_question(questions: AddQuestionsPayload) -> Any:\n",
        "    logger.info('Adding New Questions')\n",
        "\n",
        "    try:\n",
        "        question = dict(questions)\n",
        "        result, error_list = await add_questions_service.add_questions(question[\"questions\"])\n",
        "\n",
        "        if result:\n",
        "            return {\"status\": \"success\"}\n",
        "        else:\n",
        "            return {\"status\": \"fail\", \"exceptions_in\": error_list}  # raise exception\n",
        "\n",
        "    except Exception as e:\n",
        "        response = {\"status\": \"fail\", \"message\": str(e)}\n",
        "        return response\n",
        "\n",
        "# Update Phrase API Route\n",
        "@router.post(\"/phrases/\")\n",
        "async def update_phrases(questions: UpdateSingleQuestionPhrase) -> Any:\n",
        "    logger.info('Updating Questions Phrases')\n",
        "\n",
        "    try:\n",
        "        question = dict(questions)\n",
        "        result = await update_questions_service.update_phrases(question[\"questions\"])\n",
        "\n",
        "        if result:\n",
        "            return {\"status\": \"success\"}\n",
        "        else:\n",
        "            return {\"status\": \"fail\"}  # raise exception\n",
        "\n",
        "    except Exception as e:\n",
        "        response = {\"status\": \"fail\", \"message\": str(e)}\n",
        "        return response"
      ]
    }
  ]
}